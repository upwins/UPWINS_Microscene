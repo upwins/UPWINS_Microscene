{
 "cells": [
  {
   "cell_type": "markdown",
   "metadata": {},
   "source": [
    "# GOAL: In a previous notebook we:\n",
    "1. Load and view Microscene images.\n",
    "2. Convert raw microscene data to reflectance data, and save the reflectance image in the same location as the origonal file with '_ref' appended to the filename.\n",
    "\n",
    "# In this notebook we will provide code and instructions to:\n",
    "3. Buils ROIs for the plants in the microscene image(s).\n",
    "4. Exctract spectra from these regions to a spectral library file.\n",
    "\n",
    "# In future notebooks we will:\n",
    "5. Build, train, test and save classification\\detection models.\n",
    "6. Load spectral libraries from multiple microscene collects.\n",
    "7. Build, train, test and save classification\\detection models from these multi-collect libraries.\n",
    "8. Apply these models to Microscene images and rigorously evaluate accuracy.\n",
    "8. Apply these models to UAS hyperspectral images and rigorously evaluate accuracy.\n",
    "\n",
    "\n",
    "\n",
    "Locations that the user smay need to change or verify will be annoted by comments like:\n",
    "\n",
    "<<<=============================== You need to modify these to be the directory for the image you are working on ===============================>>>>\n",
    "\n",
    "--- Code to be modified or checked here ---\n",
    "\n",
    "<<<=============================================================================================================================================>>>>"
   ]
  },
  {
   "cell_type": "markdown",
   "metadata": {},
   "source": [
    "# Part 0. Imports and data structures"
   ]
  },
  {
   "cell_type": "markdown",
   "metadata": {},
   "source": [
    "<span style=\"color: red\">You will need to change the dir names in the locations below.</span>"
   ]
  },
  {
   "cell_type": "code",
   "execution_count": 17,
   "metadata": {},
   "outputs": [],
   "source": [
    "# common imports\n",
    "import matplotlib.pyplot as plt\n",
    "import matplotlib.image as mpimg\n",
    "from matplotlib import colors\n",
    "import numpy as np\n",
    "import os\n",
    "# specific required imports\n",
    "import spectral # for worinking with hyperspectral images and libraries\n",
    "import pickle # for saving and loading data\n",
    "import importlib # for reloading (importing a package after you modify it without having to restart the kernel)\n",
    "import hyperspectral_gta_data as hsi_data # for importing \\ sharing data\n",
    "# imports from local files\n",
    "from hsiViewer import hsi_viewer_ROI as hvROI\n",
    "import microscene_functions as msf\n",
    "\n",
    "# set the directory containing the image(s)\n",
    "\n",
    "# <<<=============================== You need to modify these to be the directory for the image you are working on ===============================>>>>\n",
    "dir = 'C:/spectral_data/UPWINS/Microscene_Images/Allied_01_17_2025/NANO/100060_1_17_2025_2015_06_04_18_49_00' \n",
    "# <<<=============================================================================================================================================>>>>"
   ]
  },
  {
   "cell_type": "code",
   "execution_count": 18,
   "metadata": {},
   "outputs": [],
   "source": [
    "# data sctructures - see: https://www.w3schools.com/python/python_classes.asp\n",
    "\n",
    "class file_names:\n",
    "    '''\n",
    "    This class contains the filenames of the files of each type in the selected directories. \n",
    "    The supported classes are:\n",
    "    - .JPG, typically high-resoluion RGB color image from a camera or GoPro, etc.\n",
    "    - .png, typically an RGB color image created by the Headwall software when the hyperspectral image is captured.\n",
    "    - .hdr, a header file (a text file) containing the metadata for a hyperspectral image.\n",
    "    - _dark.hdr, a header file (a text file) containing the metadata for a hyperspectral 'dark' image.\n",
    "    NOTES: \n",
    "    1. A dark image is an image that was acquired with the lenscap on. It will be subtracted from the hyperspectral image before processing. \n",
    "    For each collection there should be a seperate folder with the dark image, collected imedieately before the hyperspectral image.\n",
    "    2. This class has methods to search for files in the provided directories.  If no file is present for a given type, the list of fnames for that type will be ['None'].\n",
    "    '''\n",
    "    def __init__(self, dir, dir_dark):\n",
    "        '''Lists to hold the filenames for each type of file.'''\n",
    "        self.dir = dir      \n",
    "        self.jpg = []\n",
    "        self.png = []\n",
    "        self.reflectance_hdr = []\n",
    "\n",
    "    def find_files(self):\n",
    "        '''This method seaches the given folders and searches for files of each type.'''\n",
    "        # JPG images (usually from a camera or go pro)\n",
    "        for file in os.listdir(self.dir):\n",
    "            if file.endswith(\".JPG\"):\n",
    "                fnames.jpg.append(os.path.join(dir, file))     \n",
    "        if len(fnames.jpg)==0:\n",
    "            fnames.jpg.append('None')   \n",
    "            \n",
    "        # png images (usually auto-created from the hyperspectral)\n",
    "        for file in os.listdir(self.dir):\n",
    "            if file.endswith(\".png\"):\n",
    "                fnames.png.append(os.path.join(dir, file))        \n",
    "        if len(fnames.png)==0:\n",
    "            fnames.png.append('None')   \n",
    "              \n",
    "        # reflectance_hdr files (header files)\n",
    "        for file in os.listdir(self.dir):\n",
    "            if file.endswith(\"_ref.hdr\"):\n",
    "                fnames.reflectance_hdr.append(os.path.join(dir, file))  \n",
    "        if len(fnames.reflectance_hdr)==0:\n",
    "            fnames.reflectance_hdr.append('None')   \n",
    "    \n",
    "    def print_all(self):\n",
    "        '''This method prints all the filenames for each file type.'''\n",
    "        print('JPG Images:')\n",
    "        for fname in self.jpg:\n",
    "            print('    '+fname)\n",
    "        print('png Images:')\n",
    "        for fname in self.png:\n",
    "            print('    '+fname)\n",
    "        print('hdr files:')\n",
    "        for fname in self.reflectance_hdr:\n",
    "            print('    '+fname)"
   ]
  },
  {
   "cell_type": "markdown",
   "metadata": {},
   "source": [
    "# Part 1. Loading the hyperspectral reflectance image, and any high-res image."
   ]
  },
  {
   "cell_type": "code",
   "execution_count": 19,
   "metadata": {},
   "outputs": [
    {
     "name": "stdout",
     "output_type": "stream",
     "text": [
      "JPG Images:\n",
      "    None\n",
      "png Images:\n",
      "    C:/spectral_data/UPWINS/Microscene_Images/Allied_01_17_2025/NANO/100060_1_17_2025_2015_06_04_18_49_00\\raw_0.png\n",
      "hdr files:\n",
      "    C:/spectral_data/UPWINS/Microscene_Images/Allied_01_17_2025/NANO/100060_1_17_2025_2015_06_04_18_49_00\\raw_0_ref.hdr\n"
     ]
    }
   ],
   "source": [
    "# get a list of all jpg images and header files (one header for each hyperspectral image in the image directory)\n",
    "# the results will be saved in an instance of the file_names structure\n",
    "\n",
    "# create an instance of the file_names class\n",
    "fnames = file_names(dir, dir_dark)   \n",
    "fnames.find_files()         \n",
    "fnames.print_all()        "
   ]
  },
  {
   "cell_type": "markdown",
   "metadata": {},
   "source": [
    "<span style=\"color: red\">You will need to verify that the filenames below are correct.</span>"
   ]
  },
  {
   "cell_type": "code",
   "execution_count": 20,
   "metadata": {},
   "outputs": [
    {
     "name": "stdout",
     "output_type": "stream",
     "text": [
      "fname_hres_jpg: None\n",
      "fname_png: C:/spectral_data/UPWINS/Microscene_Images/Allied_01_17_2025/NANO/100060_1_17_2025_2015_06_04_18_49_00\\raw_0.png\n",
      "fname_im_ref_hdr (reflectance): C:/spectral_data/UPWINS/Microscene_Images/Allied_01_17_2025/NANO/100060_1_17_2025_2015_06_04_18_49_00\\raw_0_ref.hdr\n",
      "fname_im_ref (reflectance): C:/spectral_data/UPWINS/Microscene_Images/Allied_01_17_2025/NANO/100060_1_17_2025_2015_06_04_18_49_00\\raw_0_ref\n"
     ]
    }
   ],
   "source": [
    "# here are the filenames located by the search\n",
    "# <<<=============================== You need to check that the filenames below are correct. ===============================>>>>\n",
    "fname_hres_jpg = fnames.jpg[0] \n",
    "fname_png = fnames.png[0] \n",
    "fname_im_ref_hdr = fnames.reflectance_hdr[0] \n",
    "fname_im_ref = fname_im_ref_hdr[:-4]# usually same as header fname but without the .hdr exenstion\n",
    "# <<<========================================================================================================================>>>>\n",
    "print(f'fname_hres_jpg: {fname_hres_jpg}')\n",
    "print(f'fname_png: {fname_png}')\n",
    "print(f'fname_im_ref_hdr (reflectance): {fname_im_ref_hdr}')\n",
    "print(f'fname_im_ref (reflectance): {fname_im_ref}')\n"
   ]
  },
  {
   "cell_type": "code",
   "execution_count": 21,
   "metadata": {},
   "outputs": [],
   "source": [
    "# Open the image and read into an array\n",
    "im = spectral.envi.open(fname_im_ref_hdr, fname_im_ref)\n",
    "im.wl = np.asarray(im.bands.centers)\n",
    "im.Arr = im.load()"
   ]
  },
  {
   "cell_type": "markdown",
   "metadata": {},
   "source": [
    "# Part 2. Choose the bounds to crop the image so that:\n",
    "- the upper (or lower) portion is the white reference square\n",
    "- the white reference square extends the full width of the image after cropping"
   ]
  },
  {
   "cell_type": "markdown",
   "metadata": {},
   "source": [
    "<span style=\"color: red\">You will need to modify the crop_rows and crop_cols to create a good crop for your image.</span>"
   ]
  },
  {
   "cell_type": "code",
   "execution_count": 24,
   "metadata": {},
   "outputs": [
    {
     "name": "stdout",
     "output_type": "stream",
     "text": [
      "392\n",
      "[0. 1.]\n",
      "392\n",
      "[0. 2.]\n",
      "448\n",
      "[0. 2. 3.]\n",
      "448\n",
      "[0. 2. 4.]\n"
     ]
    },
    {
     "name": "stderr",
     "output_type": "stream",
     "text": [
      "C:\\Users\\wb8by\\AppData\\Roaming\\Python\\Python311\\site-packages\\numpy\\core\\fromnumeric.py:3504: RuntimeWarning: Mean of empty slice.\n",
      "  return _methods._mean(a, axis=axis, dtype=dtype,\n",
      "C:\\Users\\wb8by\\AppData\\Roaming\\Python\\Python311\\site-packages\\numpy\\core\\_methods.py:121: RuntimeWarning: invalid value encountered in divide\n",
      "  ret = um.true_divide(\n",
      "C:\\Users\\wb8by\\AppData\\Roaming\\Python\\Python311\\site-packages\\numpy\\lib\\function_base.py:520: RuntimeWarning: Mean of empty slice.\n",
      "  avg = a.mean(axis, **keepdims_kw)\n",
      "c:\\Users\\wb8by\\Documents\\GitHub\\UPWINS_Microscene\\hsiViewer\\hsi_viewer_ROI.py:358: RuntimeWarning: Degrees of freedom <= 0 for slice\n",
      "  covBk = covBk + ROIdata.shape[0]*np.cov(ROIdata.T)\n",
      "C:\\Users\\wb8by\\AppData\\Roaming\\Python\\Python311\\site-packages\\numpy\\lib\\function_base.py:2748: RuntimeWarning: divide by zero encountered in divide\n",
      "  c *= np.true_divide(1, fact)\n",
      "C:\\Users\\wb8by\\AppData\\Roaming\\Python\\Python311\\site-packages\\numpy\\lib\\function_base.py:2748: RuntimeWarning: invalid value encountered in multiply\n",
      "  c *= np.true_divide(1, fact)\n"
     ]
    },
    {
     "ename": "LinAlgError",
     "evalue": "Array must not contain infs or NaNs",
     "output_type": "error",
     "traceback": [
      "\u001b[1;31m---------------------------------------------------------------------------\u001b[0m",
      "\u001b[1;31mLinAlgError\u001b[0m                               Traceback (most recent call last)",
      "File \u001b[1;32mc:\\Users\\wb8by\\Documents\\GitHub\\UPWINS_Microscene\\hsiViewer\\hsi_viewer_ROI.py:365\u001b[0m, in \u001b[0;36mviewer.viewClassProbs\u001b[1;34m(self)\u001b[0m\n\u001b[0;32m    362\u001b[0m \u001b[38;5;28mself\u001b[39m\u001b[38;5;241m.\u001b[39mROImeans \u001b[38;5;241m=\u001b[39m ROImeans\n\u001b[0;32m    363\u001b[0m \u001b[38;5;66;03m# Whiten the image and compute mahalanobis distances\u001b[39;00m\n\u001b[0;32m    364\u001b[0m \u001b[38;5;66;03m# Compute the eigenvectors, eigenvalues, and whitening matrix\u001b[39;00m\n\u001b[1;32m--> 365\u001b[0m evals,evecs \u001b[38;5;241m=\u001b[39m \u001b[43mnp\u001b[49m\u001b[38;5;241;43m.\u001b[39;49m\u001b[43mlinalg\u001b[49m\u001b[38;5;241;43m.\u001b[39;49m\u001b[43meig\u001b[49m\u001b[43m(\u001b[49m\u001b[38;5;28;43mself\u001b[39;49m\u001b[38;5;241;43m.\u001b[39;49m\u001b[43mROIs_cov\u001b[49m\u001b[43m)\u001b[49m\n\u001b[0;32m    366\u001b[0m \u001b[38;5;66;03m# truncate the small eigenvalues to stablize the inverse\u001b[39;00m\n\u001b[0;32m    367\u001b[0m tol\u001b[38;5;241m=\u001b[39m\u001b[38;5;241m10\u001b[39m\u001b[38;5;241m*\u001b[39m\u001b[38;5;241m*\u001b[39m(\u001b[38;5;241m-\u001b[39m\u001b[38;5;241m9\u001b[39m)\n",
      "File \u001b[1;32m~\\AppData\\Roaming\\Python\\Python311\\site-packages\\numpy\\linalg\\linalg.py:1329\u001b[0m, in \u001b[0;36meig\u001b[1;34m(a)\u001b[0m\n\u001b[0;32m   1327\u001b[0m _assert_stacked_2d(a)\n\u001b[0;32m   1328\u001b[0m _assert_stacked_square(a)\n\u001b[1;32m-> 1329\u001b[0m \u001b[43m_assert_finite\u001b[49m\u001b[43m(\u001b[49m\u001b[43ma\u001b[49m\u001b[43m)\u001b[49m\n\u001b[0;32m   1330\u001b[0m t, result_t \u001b[38;5;241m=\u001b[39m _commonType(a)\n\u001b[0;32m   1332\u001b[0m extobj \u001b[38;5;241m=\u001b[39m get_linalg_error_extobj(\n\u001b[0;32m   1333\u001b[0m     _raise_linalgerror_eigenvalues_nonconvergence)\n",
      "File \u001b[1;32m~\\AppData\\Roaming\\Python\\Python311\\site-packages\\numpy\\linalg\\linalg.py:218\u001b[0m, in \u001b[0;36m_assert_finite\u001b[1;34m(*arrays)\u001b[0m\n\u001b[0;32m    216\u001b[0m \u001b[38;5;28;01mfor\u001b[39;00m a \u001b[38;5;129;01min\u001b[39;00m arrays:\n\u001b[0;32m    217\u001b[0m     \u001b[38;5;28;01mif\u001b[39;00m \u001b[38;5;129;01mnot\u001b[39;00m isfinite(a)\u001b[38;5;241m.\u001b[39mall():\n\u001b[1;32m--> 218\u001b[0m         \u001b[38;5;28;01mraise\u001b[39;00m LinAlgError(\u001b[38;5;124m\"\u001b[39m\u001b[38;5;124mArray must not contain infs or NaNs\u001b[39m\u001b[38;5;124m\"\u001b[39m)\n",
      "\u001b[1;31mLinAlgError\u001b[0m: Array must not contain infs or NaNs"
     ]
    },
    {
     "name": "stdout",
     "output_type": "stream",
     "text": [
      "392\n",
      "[0. 1.]\n",
      "392\n",
      "[0. 2.]\n",
      "448\n",
      "[0. 2. 3.]\n",
      "448\n",
      "[0. 2. 4.]\n"
     ]
    },
    {
     "ename": "LinAlgError",
     "evalue": "Array must not contain infs or NaNs",
     "output_type": "error",
     "traceback": [
      "\u001b[1;31m---------------------------------------------------------------------------\u001b[0m",
      "\u001b[1;31mLinAlgError\u001b[0m                               Traceback (most recent call last)",
      "File \u001b[1;32mc:\\Users\\wb8by\\Documents\\GitHub\\UPWINS_Microscene\\hsiViewer\\hsi_viewer_ROI.py:365\u001b[0m, in \u001b[0;36mviewer.viewClassProbs\u001b[1;34m(self)\u001b[0m\n\u001b[0;32m    362\u001b[0m \u001b[38;5;28mself\u001b[39m\u001b[38;5;241m.\u001b[39mROImeans \u001b[38;5;241m=\u001b[39m ROImeans\n\u001b[0;32m    363\u001b[0m \u001b[38;5;66;03m# Whiten the image and compute mahalanobis distances\u001b[39;00m\n\u001b[0;32m    364\u001b[0m \u001b[38;5;66;03m# Compute the eigenvectors, eigenvalues, and whitening matrix\u001b[39;00m\n\u001b[1;32m--> 365\u001b[0m evals,evecs \u001b[38;5;241m=\u001b[39m \u001b[43mnp\u001b[49m\u001b[38;5;241;43m.\u001b[39;49m\u001b[43mlinalg\u001b[49m\u001b[38;5;241;43m.\u001b[39;49m\u001b[43meig\u001b[49m\u001b[43m(\u001b[49m\u001b[38;5;28;43mself\u001b[39;49m\u001b[38;5;241;43m.\u001b[39;49m\u001b[43mROIs_cov\u001b[49m\u001b[43m)\u001b[49m\n\u001b[0;32m    366\u001b[0m \u001b[38;5;66;03m# truncate the small eigenvalues to stablize the inverse\u001b[39;00m\n\u001b[0;32m    367\u001b[0m tol\u001b[38;5;241m=\u001b[39m\u001b[38;5;241m10\u001b[39m\u001b[38;5;241m*\u001b[39m\u001b[38;5;241m*\u001b[39m(\u001b[38;5;241m-\u001b[39m\u001b[38;5;241m9\u001b[39m)\n",
      "File \u001b[1;32m~\\AppData\\Roaming\\Python\\Python311\\site-packages\\numpy\\linalg\\linalg.py:1329\u001b[0m, in \u001b[0;36meig\u001b[1;34m(a)\u001b[0m\n\u001b[0;32m   1327\u001b[0m _assert_stacked_2d(a)\n\u001b[0;32m   1328\u001b[0m _assert_stacked_square(a)\n\u001b[1;32m-> 1329\u001b[0m \u001b[43m_assert_finite\u001b[49m\u001b[43m(\u001b[49m\u001b[43ma\u001b[49m\u001b[43m)\u001b[49m\n\u001b[0;32m   1330\u001b[0m t, result_t \u001b[38;5;241m=\u001b[39m _commonType(a)\n\u001b[0;32m   1332\u001b[0m extobj \u001b[38;5;241m=\u001b[39m get_linalg_error_extobj(\n\u001b[0;32m   1333\u001b[0m     _raise_linalgerror_eigenvalues_nonconvergence)\n",
      "File \u001b[1;32m~\\AppData\\Roaming\\Python\\Python311\\site-packages\\numpy\\linalg\\linalg.py:218\u001b[0m, in \u001b[0;36m_assert_finite\u001b[1;34m(*arrays)\u001b[0m\n\u001b[0;32m    216\u001b[0m \u001b[38;5;28;01mfor\u001b[39;00m a \u001b[38;5;129;01min\u001b[39;00m arrays:\n\u001b[0;32m    217\u001b[0m     \u001b[38;5;28;01mif\u001b[39;00m \u001b[38;5;129;01mnot\u001b[39;00m isfinite(a)\u001b[38;5;241m.\u001b[39mall():\n\u001b[1;32m--> 218\u001b[0m         \u001b[38;5;28;01mraise\u001b[39;00m LinAlgError(\u001b[38;5;124m\"\u001b[39m\u001b[38;5;124mArray must not contain infs or NaNs\u001b[39m\u001b[38;5;124m\"\u001b[39m)\n",
      "\u001b[1;31mLinAlgError\u001b[0m: Array must not contain infs or NaNs"
     ]
    },
    {
     "name": "stdout",
     "output_type": "stream",
     "text": [
      "392\n",
      "[0. 1.]\n",
      "392\n",
      "[0. 2.]\n",
      "448\n",
      "[0. 2. 3.]\n",
      "448\n",
      "[0. 2. 4.]\n"
     ]
    },
    {
     "ename": "LinAlgError",
     "evalue": "Array must not contain infs or NaNs",
     "output_type": "error",
     "traceback": [
      "\u001b[1;31m---------------------------------------------------------------------------\u001b[0m",
      "\u001b[1;31mLinAlgError\u001b[0m                               Traceback (most recent call last)",
      "File \u001b[1;32mc:\\Users\\wb8by\\Documents\\GitHub\\UPWINS_Microscene\\hsiViewer\\hsi_viewer_ROI.py:365\u001b[0m, in \u001b[0;36mviewer.viewClassProbs\u001b[1;34m(self)\u001b[0m\n\u001b[0;32m    362\u001b[0m \u001b[38;5;28mself\u001b[39m\u001b[38;5;241m.\u001b[39mROImeans \u001b[38;5;241m=\u001b[39m ROImeans\n\u001b[0;32m    363\u001b[0m \u001b[38;5;66;03m# Whiten the image and compute mahalanobis distances\u001b[39;00m\n\u001b[0;32m    364\u001b[0m \u001b[38;5;66;03m# Compute the eigenvectors, eigenvalues, and whitening matrix\u001b[39;00m\n\u001b[1;32m--> 365\u001b[0m evals,evecs \u001b[38;5;241m=\u001b[39m \u001b[43mnp\u001b[49m\u001b[38;5;241;43m.\u001b[39;49m\u001b[43mlinalg\u001b[49m\u001b[38;5;241;43m.\u001b[39;49m\u001b[43meig\u001b[49m\u001b[43m(\u001b[49m\u001b[38;5;28;43mself\u001b[39;49m\u001b[38;5;241;43m.\u001b[39;49m\u001b[43mROIs_cov\u001b[49m\u001b[43m)\u001b[49m\n\u001b[0;32m    366\u001b[0m \u001b[38;5;66;03m# truncate the small eigenvalues to stablize the inverse\u001b[39;00m\n\u001b[0;32m    367\u001b[0m tol\u001b[38;5;241m=\u001b[39m\u001b[38;5;241m10\u001b[39m\u001b[38;5;241m*\u001b[39m\u001b[38;5;241m*\u001b[39m(\u001b[38;5;241m-\u001b[39m\u001b[38;5;241m9\u001b[39m)\n",
      "File \u001b[1;32m~\\AppData\\Roaming\\Python\\Python311\\site-packages\\numpy\\linalg\\linalg.py:1329\u001b[0m, in \u001b[0;36meig\u001b[1;34m(a)\u001b[0m\n\u001b[0;32m   1327\u001b[0m _assert_stacked_2d(a)\n\u001b[0;32m   1328\u001b[0m _assert_stacked_square(a)\n\u001b[1;32m-> 1329\u001b[0m \u001b[43m_assert_finite\u001b[49m\u001b[43m(\u001b[49m\u001b[43ma\u001b[49m\u001b[43m)\u001b[49m\n\u001b[0;32m   1330\u001b[0m t, result_t \u001b[38;5;241m=\u001b[39m _commonType(a)\n\u001b[0;32m   1332\u001b[0m extobj \u001b[38;5;241m=\u001b[39m get_linalg_error_extobj(\n\u001b[0;32m   1333\u001b[0m     _raise_linalgerror_eigenvalues_nonconvergence)\n",
      "File \u001b[1;32m~\\AppData\\Roaming\\Python\\Python311\\site-packages\\numpy\\linalg\\linalg.py:218\u001b[0m, in \u001b[0;36m_assert_finite\u001b[1;34m(*arrays)\u001b[0m\n\u001b[0;32m    216\u001b[0m \u001b[38;5;28;01mfor\u001b[39;00m a \u001b[38;5;129;01min\u001b[39;00m arrays:\n\u001b[0;32m    217\u001b[0m     \u001b[38;5;28;01mif\u001b[39;00m \u001b[38;5;129;01mnot\u001b[39;00m isfinite(a)\u001b[38;5;241m.\u001b[39mall():\n\u001b[1;32m--> 218\u001b[0m         \u001b[38;5;28;01mraise\u001b[39;00m LinAlgError(\u001b[38;5;124m\"\u001b[39m\u001b[38;5;124mArray must not contain infs or NaNs\u001b[39m\u001b[38;5;124m\"\u001b[39m)\n",
      "\u001b[1;31mLinAlgError\u001b[0m: Array must not contain infs or NaNs"
     ]
    },
    {
     "name": "stdout",
     "output_type": "stream",
     "text": [
      "392\n",
      "[0. 1.]\n",
      "392\n",
      "[0. 2.]\n",
      "448\n",
      "[0. 2. 3.]\n",
      "448\n",
      "[0. 2. 4.]\n"
     ]
    },
    {
     "ename": "LinAlgError",
     "evalue": "Array must not contain infs or NaNs",
     "output_type": "error",
     "traceback": [
      "\u001b[1;31m---------------------------------------------------------------------------\u001b[0m",
      "\u001b[1;31mLinAlgError\u001b[0m                               Traceback (most recent call last)",
      "File \u001b[1;32mc:\\Users\\wb8by\\Documents\\GitHub\\UPWINS_Microscene\\hsiViewer\\hsi_viewer_ROI.py:365\u001b[0m, in \u001b[0;36mviewer.viewClassProbs\u001b[1;34m(self)\u001b[0m\n\u001b[0;32m    362\u001b[0m \u001b[38;5;28mself\u001b[39m\u001b[38;5;241m.\u001b[39mROImeans \u001b[38;5;241m=\u001b[39m ROImeans\n\u001b[0;32m    363\u001b[0m \u001b[38;5;66;03m# Whiten the image and compute mahalanobis distances\u001b[39;00m\n\u001b[0;32m    364\u001b[0m \u001b[38;5;66;03m# Compute the eigenvectors, eigenvalues, and whitening matrix\u001b[39;00m\n\u001b[1;32m--> 365\u001b[0m evals,evecs \u001b[38;5;241m=\u001b[39m \u001b[43mnp\u001b[49m\u001b[38;5;241;43m.\u001b[39;49m\u001b[43mlinalg\u001b[49m\u001b[38;5;241;43m.\u001b[39;49m\u001b[43meig\u001b[49m\u001b[43m(\u001b[49m\u001b[38;5;28;43mself\u001b[39;49m\u001b[38;5;241;43m.\u001b[39;49m\u001b[43mROIs_cov\u001b[49m\u001b[43m)\u001b[49m\n\u001b[0;32m    366\u001b[0m \u001b[38;5;66;03m# truncate the small eigenvalues to stablize the inverse\u001b[39;00m\n\u001b[0;32m    367\u001b[0m tol\u001b[38;5;241m=\u001b[39m\u001b[38;5;241m10\u001b[39m\u001b[38;5;241m*\u001b[39m\u001b[38;5;241m*\u001b[39m(\u001b[38;5;241m-\u001b[39m\u001b[38;5;241m9\u001b[39m)\n",
      "File \u001b[1;32m~\\AppData\\Roaming\\Python\\Python311\\site-packages\\numpy\\linalg\\linalg.py:1329\u001b[0m, in \u001b[0;36meig\u001b[1;34m(a)\u001b[0m\n\u001b[0;32m   1327\u001b[0m _assert_stacked_2d(a)\n\u001b[0;32m   1328\u001b[0m _assert_stacked_square(a)\n\u001b[1;32m-> 1329\u001b[0m \u001b[43m_assert_finite\u001b[49m\u001b[43m(\u001b[49m\u001b[43ma\u001b[49m\u001b[43m)\u001b[49m\n\u001b[0;32m   1330\u001b[0m t, result_t \u001b[38;5;241m=\u001b[39m _commonType(a)\n\u001b[0;32m   1332\u001b[0m extobj \u001b[38;5;241m=\u001b[39m get_linalg_error_extobj(\n\u001b[0;32m   1333\u001b[0m     _raise_linalgerror_eigenvalues_nonconvergence)\n",
      "File \u001b[1;32m~\\AppData\\Roaming\\Python\\Python311\\site-packages\\numpy\\linalg\\linalg.py:218\u001b[0m, in \u001b[0;36m_assert_finite\u001b[1;34m(*arrays)\u001b[0m\n\u001b[0;32m    216\u001b[0m \u001b[38;5;28;01mfor\u001b[39;00m a \u001b[38;5;129;01min\u001b[39;00m arrays:\n\u001b[0;32m    217\u001b[0m     \u001b[38;5;28;01mif\u001b[39;00m \u001b[38;5;129;01mnot\u001b[39;00m isfinite(a)\u001b[38;5;241m.\u001b[39mall():\n\u001b[1;32m--> 218\u001b[0m         \u001b[38;5;28;01mraise\u001b[39;00m LinAlgError(\u001b[38;5;124m\"\u001b[39m\u001b[38;5;124mArray must not contain infs or NaNs\u001b[39m\u001b[38;5;124m\"\u001b[39m)\n",
      "\u001b[1;31mLinAlgError\u001b[0m: Array must not contain infs or NaNs"
     ]
    },
    {
     "name": "stdout",
     "output_type": "stream",
     "text": [
      "None\n",
      "ROI file saved, C:/spectral_data/UPWINS/Microscene_Images/Allied_01_17_2025/NANO/100060_1_17_2025_2015_06_04_18_49_00/Spectral_images.pkl\n"
     ]
    },
    {
     "data": {
      "text/plain": [
       "<hsiViewer.hsi_viewer_ROI.viewer at 0x1b450baf7f0>"
      ]
     },
     "execution_count": 24,
     "metadata": {},
     "output_type": "execute_result"
    }
   ],
   "source": [
    "importlib.reload(hvROI)\n",
    "hvROI.viewer(im)"
   ]
  },
  {
   "cell_type": "code",
   "execution_count": 27,
   "metadata": {},
   "outputs": [],
   "source": [
    "fname_roi = 'C:/spectral_data/UPWINS/Microscene_Images/Allied_01_17_2025/NANO/100060_1_17_2025_2015_06_04_18_49_00/Spectral_images.pkl'"
   ]
  },
  {
   "cell_type": "code",
   "execution_count": 28,
   "metadata": {},
   "outputs": [],
   "source": [
    "import pickle\n",
    "with open(fname_roi, 'rb') as f:\n",
    "    roiData = pickle.load(f)"
   ]
  },
  {
   "cell_type": "code",
   "execution_count": 29,
   "metadata": {},
   "outputs": [
    {
     "data": {
      "text/plain": [
       "['veg', 'veg unhealthy']"
      ]
     },
     "execution_count": 29,
     "metadata": {},
     "output_type": "execute_result"
    }
   ],
   "source": [
    "roiData.names"
   ]
  },
  {
   "cell_type": "code",
   "execution_count": 30,
   "metadata": {},
   "outputs": [
    {
     "data": {
      "text/plain": [
       "<matplotlib.image.AxesImage at 0x1b4a60b8f50>"
      ]
     },
     "execution_count": 30,
     "metadata": {},
     "output_type": "execute_result"
    },
    {
     "data": {
      "image/png": "[encoded data removed]",
      "text/plain": [
       "<Figure size 640x480 with 1 Axes>"
      ]
     },
     "metadata": {},
     "output_type": "display_data"
    }
   ],
   "source": [
    "plt.imshow(np.squeeze(roiData.masks['veg']).astype(int))"
   ]
  },
  {
   "cell_type": "code",
   "execution_count": 31,
   "metadata": {},
   "outputs": [
    {
     "data": {
      "text/html": [
       "<div>\n",
       "<style scoped>\n",
       "    .dataframe tbody tr th:only-of-type {\n",
       "        vertical-align: middle;\n",
       "    }\n",
       "\n",
       "    .dataframe tbody tr th {\n",
       "        vertical-align: top;\n",
       "    }\n",
       "\n",
       "    .dataframe thead th {\n",
       "        text-align: right;\n",
       "    }\n",
       "</style>\n",
       "<table border=\"1\" class=\"dataframe\">\n",
       "  <thead>\n",
       "    <tr style=\"text-align: right;\">\n",
       "      <th></th>\n",
       "      <th>Name</th>\n",
       "      <th>Color</th>\n",
       "      <th>Pixel_x</th>\n",
       "      <th>Pixel_y</th>\n",
       "      <th>399.606453</th>\n",
       "      <th>401.827297</th>\n",
       "      <th>404.04814</th>\n",
       "      <th>406.268984</th>\n",
       "      <th>408.489827</th>\n",
       "      <th>410.710671</th>\n",
       "      <th>...</th>\n",
       "      <th>981.467464</th>\n",
       "      <th>983.688307</th>\n",
       "      <th>985.909151</th>\n",
       "      <th>988.129994</th>\n",
       "      <th>990.350838</th>\n",
       "      <th>992.571681</th>\n",
       "      <th>994.792525</th>\n",
       "      <th>997.013368</th>\n",
       "      <th>999.234212</th>\n",
       "      <th>1001.455055</th>\n",
       "    </tr>\n",
       "  </thead>\n",
       "  <tbody>\n",
       "    <tr>\n",
       "      <th>0</th>\n",
       "      <td>veg</td>\n",
       "      <td>#fa3232</td>\n",
       "      <td>276</td>\n",
       "      <td>1679</td>\n",
       "      <td>0.086376</td>\n",
       "      <td>0.041396</td>\n",
       "      <td>-0.035162</td>\n",
       "      <td>0.132657</td>\n",
       "      <td>0.091505</td>\n",
       "      <td>0.011056</td>\n",
       "      <td>...</td>\n",
       "      <td>0.407239</td>\n",
       "      <td>0.407951</td>\n",
       "      <td>0.399352</td>\n",
       "      <td>0.396907</td>\n",
       "      <td>0.416777</td>\n",
       "      <td>0.425242</td>\n",
       "      <td>0.400042</td>\n",
       "      <td>0.393907</td>\n",
       "      <td>0.395097</td>\n",
       "      <td>0.458121</td>\n",
       "    </tr>\n",
       "    <tr>\n",
       "      <th>1</th>\n",
       "      <td>veg</td>\n",
       "      <td>#fa3232</td>\n",
       "      <td>277</td>\n",
       "      <td>1679</td>\n",
       "      <td>0.033315</td>\n",
       "      <td>-0.035396</td>\n",
       "      <td>0.000382</td>\n",
       "      <td>0.091226</td>\n",
       "      <td>0.005190</td>\n",
       "      <td>0.069093</td>\n",
       "      <td>...</td>\n",
       "      <td>0.445033</td>\n",
       "      <td>0.415491</td>\n",
       "      <td>0.409733</td>\n",
       "      <td>0.414909</td>\n",
       "      <td>0.425459</td>\n",
       "      <td>0.403085</td>\n",
       "      <td>0.430001</td>\n",
       "      <td>0.444321</td>\n",
       "      <td>0.410470</td>\n",
       "      <td>0.442067</td>\n",
       "    </tr>\n",
       "    <tr>\n",
       "      <th>2</th>\n",
       "      <td>veg</td>\n",
       "      <td>#fa3232</td>\n",
       "      <td>278</td>\n",
       "      <td>1679</td>\n",
       "      <td>0.023864</td>\n",
       "      <td>0.059560</td>\n",
       "      <td>0.076928</td>\n",
       "      <td>0.017093</td>\n",
       "      <td>0.046860</td>\n",
       "      <td>0.090927</td>\n",
       "      <td>...</td>\n",
       "      <td>0.391887</td>\n",
       "      <td>0.417891</td>\n",
       "      <td>0.444991</td>\n",
       "      <td>0.425870</td>\n",
       "      <td>0.419432</td>\n",
       "      <td>0.422098</td>\n",
       "      <td>0.449899</td>\n",
       "      <td>0.400416</td>\n",
       "      <td>0.418184</td>\n",
       "      <td>0.414755</td>\n",
       "    </tr>\n",
       "    <tr>\n",
       "      <th>3</th>\n",
       "      <td>veg</td>\n",
       "      <td>#fa3232</td>\n",
       "      <td>279</td>\n",
       "      <td>1679</td>\n",
       "      <td>0.034978</td>\n",
       "      <td>-0.036450</td>\n",
       "      <td>0.126887</td>\n",
       "      <td>0.069731</td>\n",
       "      <td>0.005256</td>\n",
       "      <td>0.127929</td>\n",
       "      <td>...</td>\n",
       "      <td>0.442703</td>\n",
       "      <td>0.398027</td>\n",
       "      <td>0.414919</td>\n",
       "      <td>0.409570</td>\n",
       "      <td>0.432639</td>\n",
       "      <td>0.442556</td>\n",
       "      <td>0.415080</td>\n",
       "      <td>0.396378</td>\n",
       "      <td>0.416796</td>\n",
       "      <td>0.404989</td>\n",
       "    </tr>\n",
       "    <tr>\n",
       "      <th>4</th>\n",
       "      <td>veg</td>\n",
       "      <td>#fa3232</td>\n",
       "      <td>280</td>\n",
       "      <td>1679</td>\n",
       "      <td>0.022667</td>\n",
       "      <td>0.142692</td>\n",
       "      <td>0.060418</td>\n",
       "      <td>0.077417</td>\n",
       "      <td>0.059828</td>\n",
       "      <td>0.018229</td>\n",
       "      <td>...</td>\n",
       "      <td>0.427030</td>\n",
       "      <td>0.415473</td>\n",
       "      <td>0.398786</td>\n",
       "      <td>0.394078</td>\n",
       "      <td>0.397418</td>\n",
       "      <td>0.362754</td>\n",
       "      <td>0.404388</td>\n",
       "      <td>0.401749</td>\n",
       "      <td>0.414610</td>\n",
       "      <td>0.406971</td>\n",
       "    </tr>\n",
       "    <tr>\n",
       "      <th>...</th>\n",
       "      <td>...</td>\n",
       "      <td>...</td>\n",
       "      <td>...</td>\n",
       "      <td>...</td>\n",
       "      <td>...</td>\n",
       "      <td>...</td>\n",
       "      <td>...</td>\n",
       "      <td>...</td>\n",
       "      <td>...</td>\n",
       "      <td>...</td>\n",
       "      <td>...</td>\n",
       "      <td>...</td>\n",
       "      <td>...</td>\n",
       "      <td>...</td>\n",
       "      <td>...</td>\n",
       "      <td>...</td>\n",
       "      <td>...</td>\n",
       "      <td>...</td>\n",
       "      <td>...</td>\n",
       "      <td>...</td>\n",
       "      <td>...</td>\n",
       "    </tr>\n",
       "    <tr>\n",
       "      <th>443</th>\n",
       "      <td>veg unhealthy</td>\n",
       "      <td>#aec7e8</td>\n",
       "      <td>145</td>\n",
       "      <td>1868</td>\n",
       "      <td>0.035305</td>\n",
       "      <td>-0.026806</td>\n",
       "      <td>-0.043307</td>\n",
       "      <td>0.038671</td>\n",
       "      <td>-0.001648</td>\n",
       "      <td>0.011203</td>\n",
       "      <td>...</td>\n",
       "      <td>0.360029</td>\n",
       "      <td>0.354715</td>\n",
       "      <td>0.335806</td>\n",
       "      <td>0.354430</td>\n",
       "      <td>0.377336</td>\n",
       "      <td>0.325790</td>\n",
       "      <td>0.345330</td>\n",
       "      <td>0.333401</td>\n",
       "      <td>0.328345</td>\n",
       "      <td>0.339369</td>\n",
       "    </tr>\n",
       "    <tr>\n",
       "      <th>444</th>\n",
       "      <td>veg unhealthy</td>\n",
       "      <td>#aec7e8</td>\n",
       "      <td>146</td>\n",
       "      <td>1868</td>\n",
       "      <td>-0.054926</td>\n",
       "      <td>-0.034717</td>\n",
       "      <td>-0.044510</td>\n",
       "      <td>-0.028654</td>\n",
       "      <td>-0.049700</td>\n",
       "      <td>0.017008</td>\n",
       "      <td>...</td>\n",
       "      <td>0.357055</td>\n",
       "      <td>0.349846</td>\n",
       "      <td>0.348043</td>\n",
       "      <td>0.376676</td>\n",
       "      <td>0.380733</td>\n",
       "      <td>0.339815</td>\n",
       "      <td>0.305142</td>\n",
       "      <td>0.329428</td>\n",
       "      <td>0.299589</td>\n",
       "      <td>0.320145</td>\n",
       "    </tr>\n",
       "    <tr>\n",
       "      <th>445</th>\n",
       "      <td>veg unhealthy</td>\n",
       "      <td>#aec7e8</td>\n",
       "      <td>147</td>\n",
       "      <td>1868</td>\n",
       "      <td>0.022034</td>\n",
       "      <td>0.058081</td>\n",
       "      <td>-0.008292</td>\n",
       "      <td>-0.021280</td>\n",
       "      <td>0.045347</td>\n",
       "      <td>0.004824</td>\n",
       "      <td>...</td>\n",
       "      <td>0.352119</td>\n",
       "      <td>0.328562</td>\n",
       "      <td>0.327859</td>\n",
       "      <td>0.319382</td>\n",
       "      <td>0.303924</td>\n",
       "      <td>0.351987</td>\n",
       "      <td>0.342921</td>\n",
       "      <td>0.350934</td>\n",
       "      <td>0.328829</td>\n",
       "      <td>0.374379</td>\n",
       "    </tr>\n",
       "    <tr>\n",
       "      <th>446</th>\n",
       "      <td>veg unhealthy</td>\n",
       "      <td>#aec7e8</td>\n",
       "      <td>148</td>\n",
       "      <td>1868</td>\n",
       "      <td>-0.044061</td>\n",
       "      <td>0.022623</td>\n",
       "      <td>0.008968</td>\n",
       "      <td>0.041562</td>\n",
       "      <td>-0.023032</td>\n",
       "      <td>-0.027282</td>\n",
       "      <td>...</td>\n",
       "      <td>0.381126</td>\n",
       "      <td>0.314872</td>\n",
       "      <td>0.375371</td>\n",
       "      <td>0.315826</td>\n",
       "      <td>0.363749</td>\n",
       "      <td>0.363318</td>\n",
       "      <td>0.331554</td>\n",
       "      <td>0.347560</td>\n",
       "      <td>0.309191</td>\n",
       "      <td>0.340173</td>\n",
       "    </tr>\n",
       "    <tr>\n",
       "      <th>447</th>\n",
       "      <td>veg unhealthy</td>\n",
       "      <td>#aec7e8</td>\n",
       "      <td>148</td>\n",
       "      <td>1869</td>\n",
       "      <td>0.001349</td>\n",
       "      <td>-0.065085</td>\n",
       "      <td>0.034731</td>\n",
       "      <td>0.049473</td>\n",
       "      <td>-0.044379</td>\n",
       "      <td>0.056549</td>\n",
       "      <td>...</td>\n",
       "      <td>0.328799</td>\n",
       "      <td>0.336060</td>\n",
       "      <td>0.336914</td>\n",
       "      <td>0.359219</td>\n",
       "      <td>0.341875</td>\n",
       "      <td>0.313692</td>\n",
       "      <td>0.334178</td>\n",
       "      <td>0.352909</td>\n",
       "      <td>0.363048</td>\n",
       "      <td>0.337258</td>\n",
       "    </tr>\n",
       "  </tbody>\n",
       "</table>\n",
       "<p>840 rows × 276 columns</p>\n",
       "</div>"
      ],
      "text/plain": [
       "              Name    Color  Pixel_x  Pixel_y  399.606453  401.827297  \\\n",
       "0              veg  #fa3232      276     1679    0.086376    0.041396   \n",
       "1              veg  #fa3232      277     1679    0.033315   -0.035396   \n",
       "2              veg  #fa3232      278     1679    0.023864    0.059560   \n",
       "3              veg  #fa3232      279     1679    0.034978   -0.036450   \n",
       "4              veg  #fa3232      280     1679    0.022667    0.142692   \n",
       "..             ...      ...      ...      ...         ...         ...   \n",
       "443  veg unhealthy  #aec7e8      145     1868    0.035305   -0.026806   \n",
       "444  veg unhealthy  #aec7e8      146     1868   -0.054926   -0.034717   \n",
       "445  veg unhealthy  #aec7e8      147     1868    0.022034    0.058081   \n",
       "446  veg unhealthy  #aec7e8      148     1868   -0.044061    0.022623   \n",
       "447  veg unhealthy  #aec7e8      148     1869    0.001349   -0.065085   \n",
       "\n",
       "     404.04814  406.268984  408.489827  410.710671  ...  981.467464  \\\n",
       "0    -0.035162    0.132657    0.091505    0.011056  ...    0.407239   \n",
       "1     0.000382    0.091226    0.005190    0.069093  ...    0.445033   \n",
       "2     0.076928    0.017093    0.046860    0.090927  ...    0.391887   \n",
       "3     0.126887    0.069731    0.005256    0.127929  ...    0.442703   \n",
       "4     0.060418    0.077417    0.059828    0.018229  ...    0.427030   \n",
       "..         ...         ...         ...         ...  ...         ...   \n",
       "443  -0.043307    0.038671   -0.001648    0.011203  ...    0.360029   \n",
       "444  -0.044510   -0.028654   -0.049700    0.017008  ...    0.357055   \n",
       "445  -0.008292   -0.021280    0.045347    0.004824  ...    0.352119   \n",
       "446   0.008968    0.041562   -0.023032   -0.027282  ...    0.381126   \n",
       "447   0.034731    0.049473   -0.044379    0.056549  ...    0.328799   \n",
       "\n",
       "     983.688307  985.909151  988.129994  990.350838  992.571681  994.792525  \\\n",
       "0      0.407951    0.399352    0.396907    0.416777    0.425242    0.400042   \n",
       "1      0.415491    0.409733    0.414909    0.425459    0.403085    0.430001   \n",
       "2      0.417891    0.444991    0.425870    0.419432    0.422098    0.449899   \n",
       "3      0.398027    0.414919    0.409570    0.432639    0.442556    0.415080   \n",
       "4      0.415473    0.398786    0.394078    0.397418    0.362754    0.404388   \n",
       "..          ...         ...         ...         ...         ...         ...   \n",
       "443    0.354715    0.335806    0.354430    0.377336    0.325790    0.345330   \n",
       "444    0.349846    0.348043    0.376676    0.380733    0.339815    0.305142   \n",
       "445    0.328562    0.327859    0.319382    0.303924    0.351987    0.342921   \n",
       "446    0.314872    0.375371    0.315826    0.363749    0.363318    0.331554   \n",
       "447    0.336060    0.336914    0.359219    0.341875    0.313692    0.334178   \n",
       "\n",
       "     997.013368  999.234212  1001.455055  \n",
       "0      0.393907    0.395097     0.458121  \n",
       "1      0.444321    0.410470     0.442067  \n",
       "2      0.400416    0.418184     0.414755  \n",
       "3      0.396378    0.416796     0.404989  \n",
       "4      0.401749    0.414610     0.406971  \n",
       "..          ...         ...          ...  \n",
       "443    0.333401    0.328345     0.339369  \n",
       "444    0.329428    0.299589     0.320145  \n",
       "445    0.350934    0.328829     0.374379  \n",
       "446    0.347560    0.309191     0.340173  \n",
       "447    0.352909    0.363048     0.337258  \n",
       "\n",
       "[840 rows x 276 columns]"
      ]
     },
     "execution_count": 31,
     "metadata": {},
     "output_type": "execute_result"
    }
   ],
   "source": [
    "roiData.df"
   ]
  }
 ],
 "metadata": {
  "kernelspec": {
   "display_name": ".conda",
   "language": "python",
   "name": "python3"
  },
  "language_info": {
   "codemirror_mode": {
    "name": "ipython",
    "version": 3
   },
   "file_extension": ".py",
   "mimetype": "text/x-python",
   "name": "python",
   "nbconvert_exporter": "python",
   "pygments_lexer": "ipython3",
   "version": "3.11.9"
  }
 },
 "nbformat": 4,
 "nbformat_minor": 2
}
